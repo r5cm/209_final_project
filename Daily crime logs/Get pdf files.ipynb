{
 "cells": [
  {
   "cell_type": "code",
   "execution_count": 8,
   "metadata": {},
   "outputs": [],
   "source": [
    "from datetime import timedelta, date\n",
    "import requests"
   ]
  },
  {
   "cell_type": "code",
   "execution_count": 13,
   "metadata": {},
   "outputs": [],
   "source": [
    "def daterange(start_date, end_date):\n",
    "    for n in range(int ((end_date - start_date).days)):\n",
    "        yield start_date + timedelta(n)\n",
    "\n",
    "start_date = date(2019, 5, 1)\n",
    "end_date = date(2019, 5, 13)\n",
    "\n",
    "url_base = 'https://ucpd.berkeley.edu/sites/default/files/'\n",
    "\n",
    "for single_date in daterange(start_date, end_date):\n",
    "    url = url_base + single_date.strftime(\"%m%d%Y\") + '.pdf'\n",
    "    myfile = requests.get(url)\n",
    "    if int(myfile.status_code) == 200:\n",
    "        filename = './' + single_date.strftime(\"%m%d%Y\") + '.pdf'\n",
    "        open(filename, 'wb').write(myfile.content)"
   ]
  }
 ],
 "metadata": {
  "kernelspec": {
   "display_name": "Python 3",
   "language": "python",
   "name": "python3"
  },
  "language_info": {
   "codemirror_mode": {
    "name": "ipython",
    "version": 3
   },
   "file_extension": ".py",
   "mimetype": "text/x-python",
   "name": "python",
   "nbconvert_exporter": "python",
   "pygments_lexer": "ipython3",
   "version": "3.7.1"
  }
 },
 "nbformat": 4,
 "nbformat_minor": 2
}
